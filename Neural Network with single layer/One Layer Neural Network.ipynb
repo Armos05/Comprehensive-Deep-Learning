{
 "cells": [
  {
   "cell_type": "markdown",
   "metadata": {},
   "source": [
    "## Import Libraries"
   ]
  },
  {
   "cell_type": "code",
   "execution_count": 14,
   "metadata": {},
   "outputs": [],
   "source": [
    "import numpy as np\n",
    "import h5py\n",
    "import matplotlib.pyplot as plt\n",
    "import scipy \n",
    "from scipy import ndimage\n",
    "import seaborn as sns\n",
    "import time\n",
    "import math \n",
    "\n",
    "%matplotlib inline"
   ]
  },
  {
   "cell_type": "markdown",
   "metadata": {},
   "source": [
    "## Import Data"
   ]
  },
  {
   "cell_type": "code",
   "execution_count": 2,
   "metadata": {},
   "outputs": [],
   "source": [
    "def load_dataset():\n",
    "    \n",
    "    training_data = h5py.File('C:/Users/Akhil/Deep Learning Everyday/Logistic Regression with Neural Network Mindset/dataset/train_catvnoncat.h5',\"r\")\n",
    "    x_train_orig = np.array(training_data[\"train_set_x\"][:])\n",
    "    y_train_orig = np.array(training_data[\"train_set_y\"][:])\n",
    "    \n",
    "    classes = np.array(training_data[\"list_classes\"][:])\n",
    "    \n",
    "    test_data = h5py.File('C:/Users/Akhil/Deep Learning Everyday/Logistic Regression with Neural Network Mindset/dataset/test_catvnoncat.h5',\"r\")\n",
    "    x_test_orig = np.array(test_data[\"test_set_x\"][:])\n",
    "    y_test_orig = np.array(test_data[\"test_set_y\"][:])\n",
    "    \n",
    "    y_train_orig = y_train_orig.reshape(1,y_train_orig.shape[0])\n",
    "    y_test_orig = y_test_orig.reshape(1, y_test_orig.shape[0])\n",
    "    \n",
    "    return x_train_orig, y_train_orig, x_test_orig, y_test_orig, classes"
   ]
  },
  {
   "cell_type": "markdown",
   "metadata": {},
   "source": [
    "## Load Data"
   ]
  },
  {
   "cell_type": "code",
   "execution_count": 3,
   "metadata": {},
   "outputs": [],
   "source": [
    "x_train_orig, y_train_orig, x_test_orig, y_test_orig, classes = load_dataset()"
   ]
  },
  {
   "cell_type": "markdown",
   "metadata": {},
   "source": [
    "## Visualize the Data"
   ]
  },
  {
   "cell_type": "code",
   "execution_count": 4,
   "metadata": {},
   "outputs": [
    {
     "data": {
      "image/png": "[encoded data removed]",
      "text/plain": [
       "<Figure size 432x288 with 1 Axes>"
      ]
     },
     "metadata": {
      "needs_background": "light"
     },
     "output_type": "display_data"
    },
    {
     "name": "stdout",
     "output_type": "stream",
     "text": [
      "y = [0] This means it is a non-cat image\n"
     ]
    }
   ],
   "source": [
    "index = 45\n",
    "plt.imshow(x_train_orig[index])\n",
    "plt.show()\n",
    "print(\"y = \" + str(y_train_orig[:, index])+ \" This means it is a \" + classes[np.squeeze(y_train_orig[:,index])].decode(\"utf-8\")+ \" image\" )"
   ]
  },
  {
   "cell_type": "markdown",
   "metadata": {},
   "source": [
    "## Shape of the Data"
   ]
  },
  {
   "cell_type": "code",
   "execution_count": 5,
   "metadata": {},
   "outputs": [
    {
     "name": "stdout",
     "output_type": "stream",
     "text": [
      "The number of training examples are 209\n",
      "the number of testing examples are 50\n",
      "the size of the training input is (209, 64, 64, 3)\n",
      "The size of the training ouput is (1, 209)\n",
      "The size of the test input is (50, 64, 64, 3)\n",
      "the size of the test output is (1, 50)\n"
     ]
    }
   ],
   "source": [
    "train_ex = y_train_orig.shape[1]\n",
    "test_ex = y_test_orig.shape[1]\n",
    "\n",
    "print(\"The number of training examples are \" + str(train_ex))\n",
    "print(\"the number of testing examples are \" + str(test_ex))\n",
    "\n",
    "print(\"the size of the training input is \" + str(x_train_orig.shape))\n",
    "print(\"The size of the training ouput is \" + str(y_train_orig.shape))\n",
    "print(\"The size of the test input is \" + str(x_test_orig.shape))\n",
    "print(\"the size of the test output is \" + str(y_test_orig.shape))"
   ]
  },
  {
   "cell_type": "markdown",
   "metadata": {},
   "source": [
    "## Reshaping and Normalization"
   ]
  },
  {
   "cell_type": "code",
   "execution_count": 7,
   "metadata": {},
   "outputs": [
    {
     "name": "stdout",
     "output_type": "stream",
     "text": [
      "the size of the training input is (12288, 209)\n",
      "The size of the training ouput is (1, 209)\n",
      "The size of the test input is (12288, 50)\n",
      "the size of the test output is (1, 50)\n"
     ]
    }
   ],
   "source": [
    "x_train_flat = x_train_orig.reshape(x_train_orig.shape[0],-1).T\n",
    "x_test_flat = x_test_orig.reshape(x_test_orig.shape[0],-1).T\n",
    "\n",
    "x_train = x_train_flat/255\n",
    "x_test = x_test_flat/255\n",
    "\n",
    "y_train  = y_train_orig\n",
    "y_test = y_test_orig\n",
    "\n",
    "print(\"the size of the training input is \" + str(x_train.shape))\n",
    "print(\"The size of the training ouput is \" + str(y_train.shape))\n",
    "print(\"The size of the test input is \" + str(x_test.shape))\n",
    "print(\"the size of the test output is \" + str(y_test.shape))"
   ]
  },
  {
   "cell_type": "markdown",
   "metadata": {},
   "source": [
    "# One Layer Neural Network"
   ]
  },
  {
   "cell_type": "markdown",
   "metadata": {},
   "source": [
    "## Sigmoid Fucntion"
   ]
  },
  {
   "cell_type": "code",
   "execution_count": 9,
   "metadata": {},
   "outputs": [],
   "source": [
    "def sigmoid(x):\n",
    "    \n",
    "    z = 1 / (1 + np.exp(-x))\n",
    "    \n",
    "    return z\n",
    "    "
   ]
  },
  {
   "cell_type": "markdown",
   "metadata": {},
   "source": [
    "## Initialize Parameters"
   ]
  },
  {
   "cell_type": "code",
   "execution_count": 10,
   "metadata": {},
   "outputs": [],
   "source": [
    "def initialize_with_zeros(dim):\n",
    "    \n",
    "    w = np.zeros(shape = (dim ,1 ))\n",
    "    b = 0\n",
    "    \n",
    "    assert(w.shape == (dim,1))\n",
    "    assert(isinstance(b,float) or isinstance(b,int))\n",
    "    \n",
    "    return w,b"
   ]
  },
  {
   "cell_type": "markdown",
   "metadata": {},
   "source": [
    "## Forward and Backpropagation\n"
   ]
  },
  {
   "cell_type": "code",
   "execution_count": 11,
   "metadata": {},
   "outputs": [],
   "source": [
    "def propagate(w,b,x,y):\n",
    "    \n",
    "    m = x.shape[1]\n",
    "    z = None\n",
    "    a = None\n",
    "    cost = None\n",
    "    \n",
    "    # forward prop\n",
    "    z = np.dot(w.T, x) + b\n",
    "    a = sigmoid(z)\n",
    "    cost = (-1/m)*np.sum(y * np.log(a) + (1- y)* np.log(1-a))\n",
    "    \n",
    "    #backprop\n",
    "    dw = (1 / m) * np.dot(x, (a - y).T)\n",
    "    db = (1 / m) * np.sum(a - y)\n",
    "    \n",
    "    cost = np.squeeze(cost)\n",
    "    assert(dw.shape == w.shape)\n",
    "    assert(db.dtype == float)\n",
    "    assert(cost.shape == ())\n",
    "           \n",
    "    grad = {\"dw\": dw, \"db\": db}\n",
    "    \n",
    "    return cost, grad"
   ]
  },
  {
   "cell_type": "markdown",
   "metadata": {},
   "source": [
    "## Optimize"
   ]
  },
  {
   "cell_type": "code",
   "execution_count": 12,
   "metadata": {},
   "outputs": [],
   "source": [
    "def optimize(w, b, x, y, num_iterations, learning_rate, print_cost = False):\n",
    "    \n",
    "    costs = []\n",
    "    \n",
    "    for i in range(num_iterations):\n",
    "        \n",
    "        cost, grad = propagate(w,b,x,y)\n",
    "        \n",
    "        dw = grad[\"dw\"]\n",
    "        db = grad[\"db\"]\n",
    "        w = w - dw*learning_rate\n",
    "        b = b- db* learning_rate\n",
    "        \n",
    "        if i % 100 == 0:\n",
    "            costs.append(cost)\n",
    "            \n",
    "        if print_cost and i % 100 == 0:\n",
    "            print(\"The cost after \" +str(i) + \" interation is \" + str(cost))\n",
    "          \n",
    "    params = {\"w\": w, \"b\": b}\n",
    "    grads = {\"dw\" : dw, \"db\": db}\n",
    "    \n",
    "    return params, grads, costs"
   ]
  },
  {
   "cell_type": "markdown",
   "metadata": {},
   "source": [
    "## Predict"
   ]
  },
  {
   "cell_type": "code",
   "execution_count": 13,
   "metadata": {},
   "outputs": [],
   "source": [
    "def predict(w,b,x,y):\n",
    "    \n",
    "    m = x.shape[1]\n",
    "    y_predict = np.zeros(shape = (1, y.shape[1]))\n",
    "    w = w.reshape(x.shape[0], 1)\n",
    "    \n",
    "    z2 = None\n",
    "    a2 =None\n",
    "    \n",
    "    \n",
    "    z2 = np.dot(w.T, x) + b\n",
    "    a2 = sigmoid(z2)\n",
    "    \n",
    "    for i in range(m):\n",
    "        \n",
    "        if a2[0,i] > 0.5 :\n",
    "            y_predict[0,i] = 1\n",
    "        else:\n",
    "            y_predict[0,i] = 0\n",
    "    \n",
    "    assert(y_predict.shape ==(1, m))\n",
    "    \n",
    "    return y_predict\n",
    "            "
   ]
  },
  {
   "cell_type": "markdown",
   "metadata": {},
   "source": [
    "## Model"
   ]
  },
  {
   "cell_type": "code",
   "execution_count": 20,
   "metadata": {},
   "outputs": [],
   "source": [
    "def model(x_train, y_train, x_test, y_test, num_iterations, learning_rate, print_cost = False):\n",
    "    \n",
    "    start = time.time()\n",
    "    w , b = initialize_with_zeros(x_train.shape[0])\n",
    "    \n",
    "    params, grads, costs = optimize(w, b, x_train, y_train, num_iterations, learning_rate, print_cost)\n",
    "    \n",
    "    w = params[\"w\"]\n",
    "    b = params[\"b\"]\n",
    "    \n",
    "    y_predict_train = predict(w,b,x_train,y_train)\n",
    "    y_predict_test = predict(w,b,x_test,y_test)\n",
    "    \n",
    "    print()\n",
    "    print(\"the accuracy of the training model is \" + str(100 - 100*np.mean(np.abs(y_predict_train))) + \"%\" )\n",
    "    print(\"the accuracy of the test model is \" + str(100 - 100*np.mean(np.abs(y_predict_test))) + \"%\" )\n",
    "    \n",
    "    My_model = {\"costs\": costs, \"w\": w, \"b\":b, \"learning_rate\":learning_rate, \"num_iterations\": num_iterations,\n",
    "                \"y_predict_train\": y_predict_train, \"y_predict_test\": y_predict_test}\n",
    "    \n",
    "    end = time.time()\n",
    "    print(\"the Time required was \" + str(end-start))\n",
    "    return My_model"
   ]
  },
  {
   "cell_type": "code",
   "execution_count": 21,
   "metadata": {},
   "outputs": [
    {
     "name": "stdout",
     "output_type": "stream",
     "text": [
      "The cost after 0 interation is 0.6931471805599453\n",
      "The cost after 100 interation is 0.5845083636993086\n",
      "The cost after 200 interation is 0.46694904094655476\n",
      "The cost after 300 interation is 0.37600686694802077\n",
      "The cost after 400 interation is 0.3314632893282513\n",
      "The cost after 500 interation is 0.30327306747438293\n",
      "The cost after 600 interation is 0.2798795865826048\n",
      "The cost after 700 interation is 0.26004213692587574\n",
      "The cost after 800 interation is 0.24294068467796623\n",
      "The cost after 900 interation is 0.22800422256726066\n",
      "The cost after 1000 interation is 0.21481951378449635\n",
      "The cost after 1100 interation is 0.20307819060644985\n",
      "The cost after 1200 interation is 0.1925442771670686\n",
      "The cost after 1300 interation is 0.18303333796883503\n",
      "The cost after 1400 interation is 0.17439859438448876\n",
      "The cost after 1500 interation is 0.16652139705400335\n",
      "The cost after 1600 interation is 0.15930451829756614\n",
      "The cost after 1700 interation is 0.15266732471296504\n",
      "The cost after 1800 interation is 0.1465422350398234\n",
      "The cost after 1900 interation is 0.14087207570310162\n",
      "\n",
      "the accuracy of the training model is 65.55023923444976%\n",
      "the accuracy of the test model is 43.99999999999999%\n",
      "the Time required was 6.467157602310181\n"
     ]
    }
   ],
   "source": [
    "My_model = model(x_train, y_train, x_test, y_test, num_iterations = 2000, learning_rate = 0.005, print_cost = True)"
   ]
  },
  {
   "cell_type": "markdown",
   "metadata": {},
   "source": [
    "## Plot"
   ]
  },
  {
   "cell_type": "code",
   "execution_count": 22,
   "metadata": {},
   "outputs": [
    {
     "data": {
      "image/png": "[encoded data removed]",
      "text/plain": [
       "<Figure size 432x288 with 1 Axes>"
      ]
     },
     "metadata": {
      "needs_background": "light"
     },
     "output_type": "display_data"
    }
   ],
   "source": [
    "costs = np.squeeze(My_model[\"costs\"])\n",
    "plt.plot(costs)\n",
    "plt.ylabel('cost')\n",
    "plt.xlabel('iterations (per hundreds)')\n",
    "plt.title(\"Learning rate =\" + str(My_model[\"learning_rate\"]))\n",
    "plt.show()"
   ]
  },
  {
   "cell_type": "markdown",
   "metadata": {},
   "source": [
    "## Comparing different Learning Rates"
   ]
  },
  {
   "cell_type": "code",
   "execution_count": 23,
   "metadata": {},
   "outputs": [
    {
     "name": "stdout",
     "output_type": "stream",
     "text": [
      "learning rate is: 0.01\n",
      "\n",
      "the accuracy of the training model is 65.07177033492823%\n",
      "the accuracy of the test model is 42.00000000000001%\n",
      "the Time required was 4.771312952041626\n",
      "\n",
      "-------------------------------------------------------\n",
      "\n",
      "learning rate is: 0.001\n",
      "\n",
      "the accuracy of the training model is 70.8133971291866%\n",
      "the accuracy of the test model is 54.0%\n",
      "the Time required was 4.12396764755249\n",
      "\n",
      "-------------------------------------------------------\n",
      "\n",
      "learning rate is: 0.0001\n",
      "\n",
      "the accuracy of the training model is 94.25837320574163%\n",
      "the accuracy of the test model is 94.0%\n",
      "the Time required was 3.732985258102417\n",
      "\n",
      "-------------------------------------------------------\n",
      "\n",
      "learning rate is: 1e-05\n",
      "\n",
      "the accuracy of the training model is 100.0%\n",
      "the accuracy of the test model is 100.0%\n",
      "the Time required was 3.694037675857544\n",
      "\n",
      "-------------------------------------------------------\n",
      "\n"
     ]
    },
    {
     "data": {
      "image/png": "[encoded data removed]",
      "text/plain": [
       "<Figure size 432x288 with 1 Axes>"
      ]
     },
     "metadata": {
      "needs_background": "light"
     },
     "output_type": "display_data"
    }
   ],
   "source": [
    "learning_rates = [0.01, 0.001, 0.0001, 0.00001]\n",
    "models = {}\n",
    "for i in learning_rates:\n",
    "    print (\"learning rate is: \" + str(i))\n",
    "    models[str(i)] = model(x_train, y_train, x_test, y_test, num_iterations = 1500, learning_rate = i, print_cost = False)\n",
    "    print ('\\n' + \"-------------------------------------------------------\" + '\\n')\n",
    "\n",
    "for i in learning_rates:\n",
    "    plt.plot(np.squeeze(models[str(i)][\"costs\"]), label= str(models[str(i)][\"learning_rate\"]))\n",
    "\n",
    "plt.ylabel('cost')\n",
    "plt.xlabel('iterations (hundreds)')\n",
    "\n",
    "legend = plt.legend(loc='upper center', shadow=True)\n",
    "frame = legend.get_frame()\n",
    "frame.set_facecolor('0.90')\n",
    "plt.show()"
   ]
  }
 ],
 "metadata": {
  "kernelspec": {
   "display_name": "Python 3",
   "language": "python",
   "name": "python3"
  },
  "language_info": {
   "codemirror_mode": {
    "name": "ipython",
    "version": 3
   },
   "file_extension": ".py",
   "mimetype": "text/x-python",
   "name": "python",
   "nbconvert_exporter": "python",
   "pygments_lexer": "ipython3",
   "version": "3.7.4"
  }
 },
 "nbformat": 4,
 "nbformat_minor": 2
}
