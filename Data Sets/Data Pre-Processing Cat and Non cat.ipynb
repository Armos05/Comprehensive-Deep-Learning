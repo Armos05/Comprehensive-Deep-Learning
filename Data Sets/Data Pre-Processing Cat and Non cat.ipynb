{
 "cells": [
  {
   "cell_type": "markdown",
   "metadata": {},
   "source": [
    "## Import Libraries"
   ]
  },
  {
   "cell_type": "code",
   "execution_count": 1,
   "metadata": {},
   "outputs": [],
   "source": [
    "import numpy as np\n",
    "import h5py\n",
    "import matplotlib.pyplot as plt\n",
    "import scipy \n",
    "from scipy import ndimage\n",
    "\n",
    "%matplotlib inline"
   ]
  },
  {
   "cell_type": "markdown",
   "metadata": {},
   "source": [
    "## Import Data"
   ]
  },
  {
   "cell_type": "code",
   "execution_count": 2,
   "metadata": {},
   "outputs": [],
   "source": [
    "def load_dataset():\n",
    "    \n",
    "    training_data = h5py.File('C:/Users/Akhil/Deep Learning Everyday/Logistic Regression with Neural Network Mindset/dataset/train_catvnoncat.h5',\"r\")\n",
    "    x_train_orig = np.array(training_data[\"train_set_x\"][:])\n",
    "    y_train_orig = np.array(training_data[\"train_set_y\"][:])\n",
    "    \n",
    "    classes = np.array(training_data[\"list_classes\"][:])\n",
    "    \n",
    "    test_data = h5py.File('C:/Users/Akhil/Deep Learning Everyday/Logistic Regression with Neural Network Mindset/dataset/test_catvnoncat.h5',\"r\")\n",
    "    x_test_orig = np.array(test_data[\"test_set_x\"][:])\n",
    "    y_test_orig = np.array(test_data[\"test_set_y\"][:])\n",
    "    \n",
    "    y_train_orig = y_train_orig.reshape(1,y_train_orig.shape[0])\n",
    "    y_test_orig = y_test_orig.reshape(1, y_test_orig.shape[0])\n",
    "    \n",
    "    return x_train_orig, y_train_orig, x_test_orig, y_test_orig, classes"
   ]
  },
  {
   "cell_type": "markdown",
   "metadata": {},
   "source": [
    "## Load Data"
   ]
  },
  {
   "cell_type": "code",
   "execution_count": 3,
   "metadata": {},
   "outputs": [],
   "source": [
    "x_train_orig, y_train_orig, x_test_orig, y_test_orig, classes = load_dataset()"
   ]
  },
  {
   "cell_type": "markdown",
   "metadata": {},
   "source": [
    "## Visualize the Data"
   ]
  },
  {
   "cell_type": "code",
   "execution_count": 4,
   "metadata": {},
   "outputs": [
    {
     "data": {
      "image/png": "[encoded data removed]",
      "text/plain": [
       "<Figure size 432x288 with 1 Axes>"
      ]
     },
     "metadata": {
      "needs_background": "light"
     },
     "output_type": "display_data"
    },
    {
     "name": "stdout",
     "output_type": "stream",
     "text": [
      "y = [0] This means it is a non-cat image\n"
     ]
    }
   ],
   "source": [
    "index = 45\n",
    "plt.imshow(x_train_orig[index])\n",
    "plt.show()\n",
    "print(\"y = \" + str(y_train_orig[:, index])+ \" This means it is a \" + classes[np.squeeze(y_train_orig[:,index])].decode(\"utf-8\")+ \" image\" )"
   ]
  },
  {
   "cell_type": "markdown",
   "metadata": {},
   "source": [
    "## Shape of the Data"
   ]
  },
  {
   "cell_type": "code",
   "execution_count": 5,
   "metadata": {},
   "outputs": [
    {
     "name": "stdout",
     "output_type": "stream",
     "text": [
      "The number of training examples are 209\n",
      "the number of testing examples are 50\n",
      "the size of the training input is (209, 64, 64, 3)\n",
      "The size of the training ouput is (1, 209)\n",
      "The size of the test input is (50, 64, 64, 3)\n",
      "the size of the test output is (1, 50)\n"
     ]
    }
   ],
   "source": [
    "train_ex = y_train_orig.shape[1]\n",
    "test_ex = y_test_orig.shape[1]\n",
    "\n",
    "print(\"The number of training examples are \" + str(train_ex))\n",
    "print(\"the number of testing examples are \" + str(test_ex))\n",
    "\n",
    "print(\"the size of the training input is \" + str(x_train_orig.shape))\n",
    "print(\"The size of the training ouput is \" + str(y_train_orig.shape))\n",
    "print(\"The size of the test input is \" + str(x_test_orig.shape))\n",
    "print(\"the size of the test output is \" + str(y_test_orig.shape))"
   ]
  },
  {
   "cell_type": "markdown",
   "metadata": {},
   "source": [
    "## Reshaping and Normalization"
   ]
  },
  {
   "cell_type": "code",
   "execution_count": 7,
   "metadata": {},
   "outputs": [
    {
     "name": "stdout",
     "output_type": "stream",
     "text": [
      "the size of the training input is (12288, 209)\n",
      "The size of the training ouput is (1, 209)\n",
      "The size of the test input is (12288, 50)\n",
      "the size of the test output is (1, 50)\n"
     ]
    }
   ],
   "source": [
    "x_train_flat = x_train_orig.reshape(x_train_orig.shape[0],-1).T\n",
    "x_test_flat = x_test_orig.reshape(x_test_orig.shape[0],-1).T\n",
    "\n",
    "x_train = x_train_flat/255\n",
    "x_test = x_test_flat/255\n",
    "\n",
    "y_train  = y_train_orig\n",
    "y_test = y_test_orig\n",
    "\n",
    "print(\"the size of the training input is \" + str(x_train.shape))\n",
    "print(\"The size of the training ouput is \" + str(y_train.shape))\n",
    "print(\"The size of the test input is \" + str(x_test.shape))\n",
    "print(\"the size of the test output is \" + str(y_test.shape))"
   ]
  },
  {
   "cell_type": "code",
   "execution_count": null,
   "metadata": {},
   "outputs": [],
   "source": []
  }
 ],
 "metadata": {
  "kernelspec": {
   "display_name": "Python 3",
   "language": "python",
   "name": "python3"
  },
  "language_info": {
   "codemirror_mode": {
    "name": "ipython",
    "version": 3
   },
   "file_extension": ".py",
   "mimetype": "text/x-python",
   "name": "python",
   "nbconvert_exporter": "python",
   "pygments_lexer": "ipython3",
   "version": "3.7.4"
  }
 },
 "nbformat": 4,
 "nbformat_minor": 2
}
