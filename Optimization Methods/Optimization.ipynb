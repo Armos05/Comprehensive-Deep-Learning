{
 "cells": [
  {
   "cell_type": "markdown",
   "metadata": {},
   "source": [
    "# Optimization"
   ]
  },
  {
   "cell_type": "markdown",
   "metadata": {},
   "source": [
    "## Stochastic Gradient Descent"
   ]
  },
  {
   "cell_type": "code",
   "execution_count": 93,
   "metadata": {},
   "outputs": [],
   "source": [
    "def L_layer_model_HE_and_xavier_and_reg_and_stochastic(X, Y, layers_dims, learning_rate=0.0075, num_iterations=3000, lambd = 0.7 ,print_cost=False): #lr was 0.009\n",
    "    \n",
    "    start = time.time()\n",
    "    np.random.seed(1)\n",
    "    costs = []                         # keep track of cost\n",
    "    lambd = 0.7\n",
    "    m = X.shape[1]\n",
    "    \n",
    "    parameters = initialize_parameters_deep_He_and_xavier(layers_dims)\n",
    "    \n",
    "    for i in range(0, num_iterations):\n",
    "        for j in range(m):\n",
    "            X_new = X[:,j].reshape(X.shape[0],1)\n",
    "            Y_new = Y[:,j].reshape(Y.shape[0],1)\n",
    "            AL, caches = L_model_forward(X_new, parameters)\n",
    "            cost = compute_cost_reg(AL, Y_new , parameters, lambd)\n",
    "            grads = L_model_backward_reg(AL, Y_new , caches, lambd)\n",
    "            parameters = update_parameters(parameters, grads, learning_rate)\n",
    "            \n",
    "        if print_cost and i % 100 == 0:\n",
    "            print (\"Cost after iteration %i: %f\" % (i, cost))\n",
    "        if print_cost and i % 100 == 0:\n",
    "            costs.append(cost)\n",
    "            \n",
    "    end = time.time()\n",
    "    print(\"the time required is \" + str(end-start))\n",
    "    plt.plot(np.squeeze(costs))\n",
    "    plt.ylabel('cost')\n",
    "    plt.xlabel('iterations (per tens)')\n",
    "    plt.title(\"Learning rate =\" + str(learning_rate))\n",
    "    plt.show()\n",
    "    \n",
    "    nn_model ={}\n",
    "    nn_model = {\"costs\": costs, \"Parameters\": parameters}\n",
    "    \n",
    "    return nn_model"
   ]
  },
  {
   "cell_type": "markdown",
   "metadata": {},
   "source": [
    "##### Run it if you have a lot of patience XD"
   ]
  },
  {
   "cell_type": "code",
   "execution_count": null,
   "metadata": {},
   "outputs": [],
   "source": [
    "parameters = L_layer_model_HE_and_xavier_and_reg_and_stochastic(x_train, y_train, layers_dims, num_iterations=2500, print_cost=True)"
   ]
  },
  {
   "cell_type": "markdown",
   "metadata": {},
   "source": [
    "## Mini Batch"
   ]
  },
  {
   "cell_type": "code",
   "execution_count": 95,
   "metadata": {},
   "outputs": [],
   "source": [
    "def minibatches(X, Y, mini_batch_size):\n",
    "    \n",
    "    m = X.shape[1]                  # number of training examples\n",
    "    mini_batches = []\n",
    "        \n",
    "    permutation = list(np.random.permutation(m))\n",
    "    shuffled_X = X[:, permutation]\n",
    "    shuffled_Y = Y[:, permutation].reshape((1,m))\n",
    "\n",
    "    num_complete_minibatches = math.floor(m/mini_batch_size)\n",
    "    \n",
    "    for k in range(0, num_complete_minibatches):\n",
    "        \n",
    "        mini_batch_X = shuffled_X[:,k * mini_batch_size:(k + 1) * mini_batch_size]\n",
    "        mini_batch_Y = shuffled_Y[:,k * mini_batch_size:(k + 1) * mini_batch_size]\n",
    "            \n",
    "        mini_batch = (mini_batch_X, mini_batch_Y)\n",
    "        mini_batches.append(mini_batch)\n",
    "    \n",
    "    \n",
    "    if m % mini_batch_size != 0:\n",
    "        \n",
    "        end = m - mini_batch_size * math.floor(m / mini_batch_size)\n",
    "        mini_batch_X = shuffled_X[:,num_complete_minibatches * mini_batch_size:]\n",
    "        mini_batch_Y = shuffled_Y[:,num_complete_minibatches * mini_batch_size:]\n",
    "        \n",
    "        mini_batch = (mini_batch_X, mini_batch_Y)\n",
    "        mini_batches.append(mini_batch)\n",
    "    \n",
    "    return mini_batches\n"
   ]
  },
  {
   "cell_type": "code",
   "execution_count": 96,
   "metadata": {},
   "outputs": [],
   "source": [
    "def L_layer_model_HE_and_xavier_and_reg_and_mini_batch(X, Y, layers_dims, learning_rate=0.0075, num_iterations=3000, lambd = 0.7 ,print_cost=False): #lr was 0.009\n",
    "    \n",
    "    start = time.time()\n",
    "    np.random.seed(1)\n",
    "    costs = []                         # keep track of cost\n",
    "    lambd = 0.7\n",
    "    m = X.shape[1]\n",
    "    mini_batch_size = 64\n",
    "    \n",
    "    parameters = initialize_parameters_deep_He_and_xavier(layers_dims)\n",
    "    mini_batches = minibatches(X, Y, mini_batch_size)\n",
    "    num_batches = math.floor(m/ mini_batch_size) \n",
    "    \n",
    "    for i in range(0, num_iterations):\n",
    "        for j in range(num_batches):\n",
    "            \n",
    "            AL, caches = L_model_forward(mini_batches[j][0], parameters)\n",
    "            cost = compute_cost_reg(AL, mini_batches[j][1] , parameters, lambd)\n",
    "            grads = L_model_backward_reg(AL, mini_batches[j][1] , caches, lambd)\n",
    "            parameters = update_parameters(parameters, grads, learning_rate)\n",
    "            \n",
    "        if print_cost and i % 100 == 0:\n",
    "            print (\"Cost after iteration %i: %f\" % (i, cost))\n",
    "        if print_cost and i % 100 == 0:\n",
    "            costs.append(cost)\n",
    "            \n",
    "    end = time.time()\n",
    "    print(\"the time required is \" + str(end-start))\n",
    "    plt.plot(np.squeeze(costs))\n",
    "    plt.ylabel('cost')\n",
    "    plt.xlabel('iterations (per tens)')\n",
    "    plt.title(\"Learning rate =\" + str(learning_rate))\n",
    "    plt.show()\n",
    "    \n",
    "    \n",
    "    return parameters"
   ]
  },
  {
   "cell_type": "code",
   "execution_count": 97,
   "metadata": {},
   "outputs": [
    {
     "name": "stdout",
     "output_type": "stream",
     "text": [
      "Cost after iteration 0: 0.693237\n",
      "Cost after iteration 100: 0.617729\n",
      "Cost after iteration 200: 0.553712\n",
      "Cost after iteration 300: 0.446439\n",
      "Cost after iteration 400: 0.414528\n",
      "Cost after iteration 500: 0.240328\n",
      "Cost after iteration 600: 0.173523\n",
      "Cost after iteration 700: 0.104111\n",
      "Cost after iteration 800: 0.080667\n",
      "Cost after iteration 900: 0.064986\n",
      "Cost after iteration 1000: 0.055104\n",
      "Cost after iteration 1100: 0.047855\n",
      "Cost after iteration 1200: 0.042531\n",
      "Cost after iteration 1300: 0.039149\n",
      "Cost after iteration 1400: 0.035808\n",
      "Cost after iteration 1500: 0.033532\n",
      "Cost after iteration 1600: 0.031623\n",
      "Cost after iteration 1700: 0.029781\n",
      "Cost after iteration 1800: 0.028625\n",
      "Cost after iteration 1900: 0.027537\n",
      "Cost after iteration 2000: 0.026778\n",
      "Cost after iteration 2100: 0.026187\n",
      "Cost after iteration 2200: 0.026443\n",
      "Cost after iteration 2300: 0.025450\n",
      "Cost after iteration 2400: 0.025144\n",
      "the time required is 220.02813148498535\n"
     ]
    },
    {
     "data": {
      "image/png": "[encoded data removed]",
      "text/plain": [
       "<Figure size 360x288 with 1 Axes>"
      ]
     },
     "metadata": {
      "needs_background": "light"
     },
     "output_type": "display_data"
    },
    {
     "name": "stdout",
     "output_type": "stream",
     "text": [
      "\n",
      "-------------------------------------------------------\n",
      "\n",
      "the Accuracy on the training set is\n",
      "Accuracy: 0.9617224880382773\n",
      "\n",
      "the Accuracy on the test set is\n",
      "Accuracy: 0.76\n"
     ]
    }
   ],
   "source": [
    "parameters = L_layer_model_HE_and_xavier_and_reg_and_mini_batch(x_train, y_train, layers_dims, num_iterations=2500, print_cost=True)\n",
    "\n",
    "print ('\\n' + \"-------------------------------------------------------\" + '\\n')  \n",
    "\n",
    "\n",
    "print(\"the Accuracy on the training set is\")\n",
    "train_accuracy = predict(x_train, y_train, parameters)\n",
    "print()\n",
    "print(\"the Accuracy on the test set is\")\n",
    "test_accuracy = predict(x_test, y_test, parameters)"
   ]
  },
  {
   "cell_type": "markdown",
   "metadata": {},
   "source": [
    "## Momentum"
   ]
  },
  {
   "cell_type": "markdown",
   "metadata": {},
   "source": [
    "### Velocity"
   ]
  },
  {
   "cell_type": "code",
   "execution_count": 99,
   "metadata": {},
   "outputs": [],
   "source": [
    "def initialize_velocity(parameters):\n",
    "    \n",
    "    L = len(parameters) // 2 # number of layers in the neural networks\n",
    "    v = {}\n",
    "    \n",
    "    for l in range(L):\n",
    "        \n",
    "        v[\"dW\" + str(l + 1)] = np.zeros_like(parameters[\"W\" + str(l+1)])\n",
    "        v[\"db\" + str(l + 1)] = np.zeros_like(parameters[\"b\" + str(l+1)])\n",
    "        \n",
    "    return v"
   ]
  },
  {
   "cell_type": "markdown",
   "metadata": {},
   "source": [
    "### Update Parameters with Momentum"
   ]
  },
  {
   "cell_type": "code",
   "execution_count": 100,
   "metadata": {},
   "outputs": [],
   "source": [
    "def update_parameters_momentum(parameters, grads, v, beta, learning_rate):\n",
    "   \n",
    "    L = len(parameters) // 2 # number of layers in the neural network\n",
    "\n",
    "    # Update rule for each parameter. Use a for loop.\n",
    "    for l in range(L):\n",
    "        \n",
    "        v[\"dW\" + str(l + 1)] = beta * v[\"dW\" + str(l + 1)] + (1 - beta) * grads['dW' + str(l + 1)]\n",
    "        v[\"db\" + str(l + 1)] = beta * v[\"db\" + str(l + 1)] + (1 - beta) * grads['db' + str(l + 1)]\n",
    "        \n",
    "        parameters[\"W\" + str(l+1)] = parameters[\"W\" + str(l+1)] - learning_rate * v[\"dW\" + str(l+1)]\n",
    "        parameters[\"b\" + str(l+1)] = parameters[\"b\" + str(l+1)] - learning_rate * v[\"db\" + str(l+1)]\n",
    "        \n",
    "    return parameters"
   ]
  },
  {
   "cell_type": "markdown",
   "metadata": {},
   "source": [
    "### Model"
   ]
  },
  {
   "cell_type": "code",
   "execution_count": 101,
   "metadata": {},
   "outputs": [],
   "source": [
    "def L_layer_model_HE_and_xavier_and_reg_and_mini_batch_and_momentum(X, Y, layers_dims, learning_rate=0.0075, num_iterations=3000, lambd = 0.7 ,print_cost=False): #lr was 0.009\n",
    "    \n",
    "    start = time.time()\n",
    "    np.random.seed(1)\n",
    "    costs = []                         # keep track of cost\n",
    "    lambd = 0.7\n",
    "    m = X.shape[1]\n",
    "    mini_batch_size = 64\n",
    "    beta = 0.9\n",
    "    \n",
    "    parameters = initialize_parameters_deep_He_and_xavier(layers_dims)\n",
    "    v = initialize_velocity(parameters)\n",
    "    \n",
    "    mini_batches = minibatches(X, Y, mini_batch_size)\n",
    "    num_batches = math.floor(m/ mini_batch_size) \n",
    "    \n",
    "    for i in range(0, num_iterations):\n",
    "        for j in range(num_batches):\n",
    "            \n",
    "            AL, caches = L_model_forward(mini_batches[j][0], parameters)\n",
    "            cost = compute_cost_reg(AL, mini_batches[j][1] , parameters, lambd)\n",
    "            grads = L_model_backward_reg(AL, mini_batches[j][1] , caches, lambd)\n",
    "            \n",
    "            parameters = update_parameters_momentum(parameters, grads, v, beta, learning_rate)\n",
    "            \n",
    "        if print_cost and i % 100 == 0:\n",
    "            print (\"Cost after iteration %i: %f\" % (i, cost))\n",
    "        if print_cost and i % 100 == 0:\n",
    "            costs.append(cost)\n",
    "            \n",
    "    end = time.time()\n",
    "    print(\"the time required is \" + str(end-start))\n",
    "    plt.plot(np.squeeze(costs))\n",
    "    plt.ylabel('cost')\n",
    "    plt.xlabel('iterations (per tens)')\n",
    "    plt.title(\"Learning rate =\" + str(learning_rate))\n",
    "    plt.show()\n",
    "\n",
    "    \n",
    "    return parameters"
   ]
  },
  {
   "cell_type": "code",
   "execution_count": 102,
   "metadata": {},
   "outputs": [
    {
     "name": "stdout",
     "output_type": "stream",
     "text": [
      "Cost after iteration 0: 0.733508\n",
      "Cost after iteration 100: 0.628070\n",
      "Cost after iteration 200: 0.604685\n",
      "Cost after iteration 300: 0.593740\n",
      "Cost after iteration 400: 0.584969\n",
      "Cost after iteration 500: 0.574944\n",
      "Cost after iteration 600: 0.559889\n",
      "Cost after iteration 700: 0.538985\n",
      "Cost after iteration 800: 0.501484\n",
      "Cost after iteration 900: 0.306619\n",
      "Cost after iteration 1000: 0.232451\n",
      "Cost after iteration 1100: 0.219794\n",
      "Cost after iteration 1200: 0.202035\n",
      "Cost after iteration 1300: 0.172950\n",
      "Cost after iteration 1400: 0.151554\n",
      "Cost after iteration 1500: 0.138373\n",
      "Cost after iteration 1600: 0.127257\n",
      "Cost after iteration 1700: 0.117614\n",
      "Cost after iteration 1800: 0.109395\n",
      "Cost after iteration 1900: 0.102263\n",
      "Cost after iteration 2000: 0.095783\n",
      "Cost after iteration 2100: 0.090049\n",
      "Cost after iteration 2200: 0.085329\n",
      "Cost after iteration 2300: 0.081082\n",
      "Cost after iteration 2400: 0.076875\n",
      "the time required is 258.7725944519043\n"
     ]
    },
    {
     "data": {
      "image/png": "[encoded data removed]",
      "text/plain": [
       "<Figure size 360x288 with 1 Axes>"
      ]
     },
     "metadata": {
      "needs_background": "light"
     },
     "output_type": "display_data"
    },
    {
     "name": "stdout",
     "output_type": "stream",
     "text": [
      "\n",
      "-------------------------------------------------------\n",
      "\n",
      "the Accuracy on the training set is\n",
      "Accuracy: 0.9282296650717701\n",
      "\n",
      "the Accuracy on the test set is\n",
      "Accuracy: 0.7\n"
     ]
    }
   ],
   "source": [
    "parameters = L_layer_model_HE_and_xavier_and_reg_and_mini_batch_and_momentum(x_train, y_train, layers_dims, num_iterations=2500, print_cost=True)\n",
    "\n",
    "print ('\\n' + \"-------------------------------------------------------\" + '\\n')  \n",
    "\n",
    "\n",
    "print(\"the Accuracy on the training set is\")\n",
    "train_accuracy = predict(x_train, y_train, parameters)\n",
    "print()\n",
    "print(\"the Accuracy on the test set is\")\n",
    "test_accuracy = predict(x_test, y_test, parameters)"
   ]
  },
  {
   "cell_type": "markdown",
   "metadata": {},
   "source": [
    "## RMS prop"
   ]
  },
  {
   "cell_type": "code",
   "execution_count": 104,
   "metadata": {},
   "outputs": [],
   "source": [
    "def update_parameters_rms(parameters, grads, v, beta, learning_rate):\n",
    "   \n",
    "    L = len(parameters) // 2 # number of layers in the neural network\n",
    "\n",
    "    # Update rule for each parameter. Use a for loop.\n",
    "    for l in range(L):\n",
    "        \n",
    "        v[\"dW\" + str(l + 1)] = beta * v[\"dW\" + str(l + 1)] + (1 - beta) * np.square(grads['dW' + str(l + 1)])\n",
    "        v[\"db\" + str(l + 1)] = beta * v[\"db\" + str(l + 1)] + (1 - beta) * np.square(grads['db' + str(l + 1)])\n",
    "        \n",
    "        parameters[\"W\" + str(l+1)] = parameters[\"W\" + str(l+1)] - learning_rate * grads[\"dW\" + str(l+1)] /np.sqrt(v[\"dW\" + str(l + 1)] + 10**(-8))\n",
    "        parameters[\"b\" + str(l+1)] = parameters[\"b\" + str(l+1)] - learning_rate * grads[\"db\" + str(l+1)] /np.sqrt(v[\"db\" + str(l + 1)] + 10**(-8))\n",
    "        \n",
    "    return parameters"
   ]
  },
  {
   "cell_type": "markdown",
   "metadata": {},
   "source": [
    "### Update Params with RMS prop"
   ]
  },
  {
   "cell_type": "code",
   "execution_count": 103,
   "metadata": {},
   "outputs": [],
   "source": [
    "def L_layer_model_HE_and_xavier_and_reg_and_mini_batch_and_RMS(X, Y, layers_dims, learning_rate=0.0075, num_iterations=3000, lambd = 0.7 ,print_cost=False): #lr was 0.009\n",
    "    \n",
    "    start = time.time()\n",
    "    np.random.seed(1)\n",
    "    costs = []                         # keep track of cost\n",
    "    lambd = 0.7\n",
    "    m = X.shape[1]\n",
    "    mini_batch_size = 64\n",
    "    beta = 0.9\n",
    "    \n",
    "    parameters = initialize_parameters_deep_He_and_xavier(layers_dims)\n",
    "    v = initialize_velocity(parameters)\n",
    "    \n",
    "    mini_batches = minibatches(X, Y, mini_batch_size)\n",
    "    num_batches = math.floor(m/ mini_batch_size) \n",
    "    \n",
    "    for i in range(0, num_iterations):\n",
    "        for j in range(num_batches):\n",
    "            \n",
    "            AL, caches = L_model_forward(mini_batches[j][0], parameters)\n",
    "            cost = compute_cost_reg(AL, mini_batches[j][1] , parameters, lambd)\n",
    "            grads = L_model_backward_reg(AL, mini_batches[j][1] , caches, lambd)\n",
    "            v = initialize_velocity(parameters)\n",
    "            parameters = update_parameters_rms(parameters, grads, v, beta , learning_rate)\n",
    "            \n",
    "        if print_cost and i % 100 == 0:\n",
    "            print (\"Cost after iteration %i: %f\" % (i, cost))\n",
    "        if print_cost and i % 100 == 0:\n",
    "            costs.append(cost)\n",
    "            \n",
    "    end = time.time()\n",
    "    print(\"the time required is \" + str(end-start))\n",
    "    plt.plot(np.squeeze(costs))\n",
    "    plt.ylabel('cost')\n",
    "    plt.xlabel('iterations (per tens)')\n",
    "    plt.title(\"Learning rate =\" + str(learning_rate))\n",
    "    plt.show()\n",
    "    \n",
    "    return parameters"
   ]
  },
  {
   "cell_type": "markdown",
   "metadata": {},
   "source": [
    "## ADAM"
   ]
  },
  {
   "cell_type": "markdown",
   "metadata": {},
   "source": [
    "### Initialize Adam"
   ]
  },
  {
   "cell_type": "code",
   "execution_count": 105,
   "metadata": {},
   "outputs": [],
   "source": [
    "def initialize_adam(parameters) :\n",
    "   \n",
    "    L = len(parameters) // 2 # number of layers in the neural networks\n",
    "    v = {}\n",
    "    s = {}\n",
    "    \n",
    "    for l in range(L):\n",
    "        \n",
    "        v[\"dW\" + str(l + 1)] = np.zeros_like(parameters[\"W\" + str(l + 1)])\n",
    "        v[\"db\" + str(l + 1)] = np.zeros_like(parameters[\"b\" + str(l + 1)])\n",
    "\n",
    "        s[\"dW\" + str(l+1)] = np.zeros_like(parameters[\"W\" + str(l + 1)])\n",
    "        s[\"db\" + str(l+1)] = np.zeros_like(parameters[\"b\" + str(l + 1)])\n",
    "    \n",
    "    return v, s"
   ]
  },
  {
   "cell_type": "markdown",
   "metadata": {},
   "source": [
    "### Update Parameters with ADAM"
   ]
  },
  {
   "cell_type": "code",
   "execution_count": 106,
   "metadata": {},
   "outputs": [],
   "source": [
    "def update_parameters_with_adam(parameters, grads, v, s, t, learning_rate=0.01,\n",
    "                                beta1=0.9, beta2=0.999, epsilon=1e-8):\n",
    "    \n",
    "    \n",
    "    L = len(parameters) // 2                 # number of layers in the neural networks\n",
    "    v_corrected = {}                         # Initializing first moment estimate, python dictionary\n",
    "    s_corrected = {}                         # Initializing second moment estimate, python dictionary\n",
    "    \n",
    "    \n",
    "    for l in range(L):\n",
    "        \n",
    "        v[\"dW\" + str(l + 1)] = beta1 * v[\"dW\" + str(l + 1)] + (1 - beta1) * grads['dW' + str(l + 1)]\n",
    "        v[\"db\" + str(l + 1)] = beta1 * v[\"db\" + str(l + 1)] + (1 - beta1) * grads['db' + str(l + 1)]\n",
    "        \n",
    "        v_corrected[\"dW\" + str(l + 1)] = v[\"dW\" + str(l + 1)] / (1 - np.power(beta1, t))\n",
    "        v_corrected[\"db\" + str(l + 1)] = v[\"db\" + str(l + 1)] / (1 - np.power(beta1, t))\n",
    "        \n",
    "        s[\"dW\" + str(l + 1)] = beta2 * s[\"dW\" + str(l + 1)] + (1 - beta2) * np.power(grads['dW' + str(l + 1)], 2)\n",
    "        s[\"db\" + str(l + 1)] = beta2 * s[\"db\" + str(l + 1)] + (1 - beta2) * np.power(grads['db' + str(l + 1)], 2)\n",
    "        \n",
    "        s_corrected[\"dW\" + str(l + 1)] = s[\"dW\" + str(l + 1)] / (1 - np.power(beta2, t))\n",
    "        s_corrected[\"db\" + str(l + 1)] = s[\"db\" + str(l + 1)] / (1 - np.power(beta2, t))\n",
    "        \n",
    "        parameters[\"W\" + str(l + 1)] = parameters[\"W\" + str(l + 1)] - learning_rate * v_corrected[\"dW\" + str(l + 1)] / np.sqrt(s_corrected[\"dW\" + str(l + 1)] + epsilon)\n",
    "        parameters[\"b\" + str(l + 1)] = parameters[\"b\" + str(l + 1)] - learning_rate * v_corrected[\"db\" + str(l + 1)] / np.sqrt(s_corrected[\"db\" + str(l + 1)] + epsilon)\n",
    "        \n",
    "\n",
    "    return parameters, v, s"
   ]
  },
  {
   "cell_type": "markdown",
   "metadata": {},
   "source": [
    "### Model"
   ]
  },
  {
   "cell_type": "code",
   "execution_count": 107,
   "metadata": {},
   "outputs": [],
   "source": [
    "def L_layer_model_HE_and_xavier_and_reg_and_mini_batch_and_ADAM(X, Y, layers_dims, learning_rate=0.0075, num_iterations=3000, lambd = 0.7 ,print_cost=False): #lr was 0.009\n",
    "    \n",
    "    start = time.time()\n",
    "    np.random.seed(1)\n",
    "    costs = []                         # keep track of cost\n",
    "    lambd = 0.7\n",
    "    m = X.shape[1]\n",
    "    mini_batch_size = 64\n",
    "    beta = 0.9\n",
    "    t = 0\n",
    "    \n",
    "    \n",
    "    parameters = initialize_parameters_deep_He_and_xavier(layers_dims)\n",
    "    v, s = initialize_adam(parameters)\n",
    "    \n",
    "    mini_batches = minibatches(X, Y, mini_batch_size)\n",
    "    num_batches = math.floor(m/ mini_batch_size) \n",
    "    \n",
    "    for i in range(0, num_iterations):\n",
    "        for j in range(num_batches):\n",
    "            \n",
    "            AL, caches = L_model_forward(mini_batches[j][0], parameters)\n",
    "            cost = compute_cost_reg(AL, mini_batches[j][1] , parameters, lambd)\n",
    "            grads = L_model_backward_reg(AL, mini_batches[j][1] , caches, lambd)\n",
    "            t = t + 1\n",
    "            parameters,v,s = update_parameters_with_adam(parameters, grads, v, s, t, learning_rate=0.01,\n",
    "                                beta1=0.9, beta2=0.999, epsilon=1e-8)\n",
    "            \n",
    "        if print_cost and i % 100 == 0:\n",
    "            print (\"Cost after iteration %i: %f\" % (i, cost))\n",
    "        if print_cost and i % 100 == 0:\n",
    "            costs.append(cost)\n",
    "            \n",
    "    end = time.time()\n",
    "    print(\"the time required is \" + str(end-start))\n",
    "    plt.plot(np.squeeze(costs))\n",
    "    plt.ylabel('cost')\n",
    "    plt.xlabel('iterations (per tens)')\n",
    "    plt.title(\"Learning rate =\" + str(learning_rate))\n",
    "    plt.show()\n",
    "    \n",
    "    \n",
    "    return parameters"
   ]
  },
  {
   "cell_type": "code",
   "execution_count": 108,
   "metadata": {},
   "outputs": [
    {
     "name": "stdout",
     "output_type": "stream",
     "text": [
      "Cost after iteration 0: 0.688545\n",
      "Cost after iteration 100: 0.590378\n",
      "Cost after iteration 200: 0.590150\n",
      "Cost after iteration 300: 0.589970\n",
      "Cost after iteration 400: 0.589849\n",
      "Cost after iteration 500: 0.589774\n",
      "Cost after iteration 600: 0.589727\n",
      "Cost after iteration 700: 0.589698\n",
      "Cost after iteration 800: 0.589679\n",
      "Cost after iteration 900: 0.589667\n",
      "Cost after iteration 1000: 0.589658\n",
      "Cost after iteration 1100: 0.589653\n",
      "Cost after iteration 1200: 0.589649\n",
      "Cost after iteration 1300: 0.589645\n",
      "Cost after iteration 1400: 0.589642\n",
      "Cost after iteration 1500: 0.589640\n",
      "Cost after iteration 1600: 0.589637\n",
      "Cost after iteration 1700: 0.589635\n",
      "Cost after iteration 1800: 0.589632\n",
      "Cost after iteration 1900: 0.589629\n",
      "Cost after iteration 2000: 0.589626\n",
      "Cost after iteration 2100: 0.589623\n",
      "Cost after iteration 2200: 0.589620\n",
      "Cost after iteration 2300: 0.589618\n",
      "Cost after iteration 2400: 0.589616\n",
      "the time required is 628.4007616043091\n"
     ]
    },
    {
     "data": {
      "image/png": "[encoded data removed]",
      "text/plain": [
       "<Figure size 360x288 with 1 Axes>"
      ]
     },
     "metadata": {
      "needs_background": "light"
     },
     "output_type": "display_data"
    },
    {
     "name": "stdout",
     "output_type": "stream",
     "text": [
      "\n",
      "-------------------------------------------------------\n",
      "\n",
      "the Accuracy on the training set is\n",
      "Accuracy: 0.6555023923444976\n",
      "\n",
      "the Accuracy on the test set is\n",
      "Accuracy: 0.3400000000000001\n"
     ]
    }
   ],
   "source": [
    "parameters = L_layer_model_HE_and_xavier_and_reg_and_mini_batch_and_ADAM(x_train, y_train, layers_dims, num_iterations=2500, print_cost=True)\n",
    "\n",
    "print ('\\n' + \"-------------------------------------------------------\" + '\\n')  \n",
    "\n",
    "\n",
    "print(\"the Accuracy on the training set is\")\n",
    "train_accuracy = predict(x_train, y_train, parameters)\n",
    "print()\n",
    "print(\"the Accuracy on the test set is\")\n",
    "test_accuracy = predict(x_test, y_test, parameters)"
   ]
  },
  {
   "cell_type": "markdown",
   "metadata": {},
   "source": [
    "## Learning Rate Decay"
   ]
  },
  {
   "cell_type": "markdown",
   "metadata": {},
   "source": [
    "### Update learing rate with decay"
   ]
  },
  {
   "cell_type": "code",
   "execution_count": 114,
   "metadata": {},
   "outputs": [],
   "source": [
    "def update_parameters_with_rate_decay(parameters, grads, decay_rate , i ,learning_rate=0.01):\n",
    "    \n",
    "    \n",
    "    L = len(parameters) // 2                 # number of layers in the neural networks\n",
    "    \n",
    "    \n",
    "    for l in range(L):\n",
    "        \n",
    "        parameters[\"W\" + str(l + 1)] = parameters[\"W\" + str(l + 1)] - (learning_rate /(1 + decay_rate**(i))) * grads[\"dW\" + str(l + 1)] \n",
    "        parameters[\"b\" + str(l + 1)] = parameters[\"b\" + str(l + 1)] - (learning_rate/(1 + decay_rate**(i))) * grads[\"db\" + str(l + 1)] \n",
    "        \n",
    "\n",
    "    return parameters"
   ]
  },
  {
   "cell_type": "markdown",
   "metadata": {},
   "source": [
    "### Model"
   ]
  },
  {
   "cell_type": "code",
   "execution_count": 115,
   "metadata": {},
   "outputs": [],
   "source": [
    "def L_layer_model_HE_and_xavier_and_reg_and_mini_batch_and_rate_decay(X, Y, layers_dims, learning_rate=0.0075, num_iterations=3000, lambd = 0.7 ,print_cost=False): #lr was 0.009\n",
    "    \n",
    "    start = time.time()\n",
    "    np.random.seed(1)\n",
    "    costs = []                         # keep track of cost\n",
    "    lambd = 0.7\n",
    "    m = X.shape[1]\n",
    "    mini_batch_size = 64\n",
    "    beta = 0.9\n",
    "    t = 0\n",
    "    decay_rate = 0.2\n",
    "    \n",
    "    \n",
    "    parameters = initialize_parameters_deep_He_and_xavier(layers_dims)\n",
    "    \n",
    "    mini_batches = minibatches(X, Y, mini_batch_size)\n",
    "    num_batches = math.floor(m/ mini_batch_size) \n",
    "    \n",
    "    for i in range(0, num_iterations):\n",
    "        for j in range(num_batches):\n",
    "            \n",
    "            AL, caches = L_model_forward(mini_batches[j][0], parameters)\n",
    "            cost = compute_cost_reg(AL, mini_batches[j][1] , parameters, lambd)\n",
    "            grads = L_model_backward_reg(AL, mini_batches[j][1] , caches, lambd)\n",
    "            parameters = update_parameters_with_rate_decay(parameters, grads, decay_rate, i, learning_rate=0.01)\n",
    "            \n",
    "        if print_cost and i % 100 == 0:\n",
    "            print (\"Cost after iteration %i: %f\" % (i, cost))\n",
    "        if print_cost and i % 100 == 0:\n",
    "            costs.append(cost)\n",
    "            \n",
    "    end = time.time()\n",
    "    print(\"the time required is \" + str(end-start))\n",
    "    plt.plot(np.squeeze(costs))\n",
    "    plt.ylabel('cost')\n",
    "    plt.xlabel('iterations (per tens)')\n",
    "    plt.title(\"Learning rate =\" + str(learning_rate))\n",
    "    plt.show()\n",
    "    \n",
    "    \n",
    "    return parameters"
   ]
  },
  {
   "cell_type": "code",
   "execution_count": 116,
   "metadata": {},
   "outputs": [
    {
     "name": "stdout",
     "output_type": "stream",
     "text": [
      "Cost after iteration 0: 0.699501\n",
      "Cost after iteration 100: 0.611262\n",
      "Cost after iteration 200: 0.471291\n",
      "Cost after iteration 300: 0.290895\n",
      "Cost after iteration 400: 0.346268\n",
      "Cost after iteration 500: 0.106287\n",
      "Cost after iteration 600: 0.069334\n",
      "Cost after iteration 700: 0.052778\n",
      "Cost after iteration 800: 0.043692\n",
      "Cost after iteration 900: 0.037200\n",
      "Cost after iteration 1000: 0.033222\n",
      "Cost after iteration 1100: 0.031056\n",
      "Cost after iteration 1200: 0.028244\n",
      "Cost after iteration 1300: 0.027237\n",
      "Cost after iteration 1400: 0.026224\n",
      "Cost after iteration 1500: 0.024749\n",
      "Cost after iteration 1600: 0.024103\n",
      "Cost after iteration 1700: 0.023707\n",
      "Cost after iteration 1800: 0.023199\n",
      "Cost after iteration 1900: 0.022942\n",
      "Cost after iteration 2000: 0.022996\n",
      "Cost after iteration 2100: 0.022514\n",
      "Cost after iteration 2200: 0.022308\n",
      "Cost after iteration 2300: 0.022147\n",
      "Cost after iteration 2400: 0.021873\n",
      "the time required is 220.50304412841797\n"
     ]
    },
    {
     "data": {
      "image/png": "[encoded data removed]",
      "text/plain": [
       "<Figure size 360x288 with 1 Axes>"
      ]
     },
     "metadata": {
      "needs_background": "light"
     },
     "output_type": "display_data"
    },
    {
     "name": "stdout",
     "output_type": "stream",
     "text": [
      "\n",
      "-------------------------------------------------------\n",
      "\n",
      "the Accuracy on the training set is\n",
      "Accuracy: 0.9617224880382773\n",
      "\n",
      "the Accuracy on the test set is\n",
      "Accuracy: 0.7400000000000001\n"
     ]
    }
   ],
   "source": [
    "parameters = L_layer_model_HE_and_xavier_and_reg_and_mini_batch_and_rate_decay(x_train, y_train, layers_dims, num_iterations=2500, print_cost=True)\n",
    "\n",
    "print ('\\n' + \"-------------------------------------------------------\" + '\\n')  \n",
    "\n",
    "\n",
    "print(\"the Accuracy on the training set is\")\n",
    "train_accuracy = predict(x_train, y_train, parameters)\n",
    "print()\n",
    "print(\"the Accuracy on the test set is\")\n",
    "test_accuracy = predict(x_test, y_test, parameters)"
   ]
  }
 ],
 "metadata": {
  "kernelspec": {
   "display_name": "Python 3",
   "language": "python",
   "name": "python3"
  },
  "language_info": {
   "codemirror_mode": {
    "name": "ipython",
    "version": 3
   },
   "file_extension": ".py",
   "mimetype": "text/x-python",
   "name": "python",
   "nbconvert_exporter": "python",
   "pygments_lexer": "ipython3",
   "version": "3.7.4"
  }
 },
 "nbformat": 4,
 "nbformat_minor": 2
}
