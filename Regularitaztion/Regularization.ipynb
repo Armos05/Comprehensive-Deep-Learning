{
 "cells": [
  {
   "cell_type": "markdown",
   "metadata": {},
   "source": [
    "# Regularitation"
   ]
  },
  {
   "cell_type": "markdown",
   "metadata": {},
   "source": [
    "## Compute Cost Regularization"
   ]
  },
  {
   "cell_type": "code",
   "execution_count": 86,
   "metadata": {},
   "outputs": [],
   "source": [
    "def compute_cost_reg(AL, Y, parameters, lambd):\n",
    "    \n",
    "    m = Y.shape[1]\n",
    "    \n",
    "    l = len(parameters)//2\n",
    "    \n",
    "\n",
    "    cost = (1./m) * (-np.dot(Y,np.log(AL).T) - np.dot(1-Y, np.log(1-AL).T))\n",
    "    \n",
    "    cost = np.squeeze(cost) \n",
    "    reg_costs = 0\n",
    "    \n",
    "    for i in range(1, l):\n",
    "        reg_cost = np.sum(np.square(parameters[\"W\"+str(i)]))\n",
    "        reg_costs = reg_costs + reg_cost\n",
    "        \n",
    "    reg_costs = lambd* reg_costs/(2* m)\n",
    "    reg_costs = np.squeeze(reg_costs)\n",
    "    \n",
    "    reg_net_cost = reg_costs + cost\n",
    "    \n",
    "    assert(reg_net_cost.shape == ())\n",
    "    \n",
    "    return cost"
   ]
  },
  {
   "cell_type": "markdown",
   "metadata": {},
   "source": [
    "## Linear Backward Regularization"
   ]
  },
  {
   "cell_type": "code",
   "execution_count": 87,
   "metadata": {},
   "outputs": [],
   "source": [
    "def linear_backward_reg(dZ, cache, lambd):\n",
    "   \n",
    "    A_prev, W, b = cache\n",
    "    m = A_prev.shape[1]\n",
    "\n",
    "    dW = 1./m * np.dot(dZ,A_prev.T) + (lambd * W)/ m \n",
    "    db = 1./m * np.sum(dZ, axis = 1, keepdims = True)\n",
    "    dA_prev = np.dot(W.T,dZ)\n",
    "    \n",
    "    assert (dA_prev.shape == A_prev.shape)\n",
    "    assert (dW.shape == W.shape)\n",
    "    assert (db.shape == b.shape)\n",
    "    \n",
    "    return dA_prev, dW, db"
   ]
  },
  {
   "cell_type": "markdown",
   "metadata": {},
   "source": [
    "## Linear Activation Backward"
   ]
  },
  {
   "cell_type": "code",
   "execution_count": 88,
   "metadata": {},
   "outputs": [],
   "source": [
    "def linear_activation_backward_reg(dA, cache, lambd, activation):\n",
    "   \n",
    "    linear_cache, activation_cache = cache\n",
    "    lambd = lambd\n",
    "    \n",
    "    if activation == \"relu\":\n",
    "        dZ = relu_backward(dA, activation_cache)\n",
    "        dA_prev, dW, db = linear_backward_reg(dZ, linear_cache, lambd)\n",
    "        \n",
    "    elif activation == \"sigmoid\":\n",
    "        dZ = sigmoid_backward(dA, activation_cache)\n",
    "        dA_prev, dW, db = linear_backward_reg(dZ, linear_cache, lambd)\n",
    "    \n",
    "    return dA_prev, dW, db"
   ]
  },
  {
   "cell_type": "markdown",
   "metadata": {},
   "source": [
    "## linear Model Backward Regularization"
   ]
  },
  {
   "cell_type": "code",
   "execution_count": 89,
   "metadata": {},
   "outputs": [],
   "source": [
    "def L_model_backward_reg(AL, Y, caches, lambd):\n",
    "   \n",
    "    grads = {}\n",
    "    L = len(caches) \n",
    "    m = AL.shape[1]\n",
    "    lambd = lambd\n",
    "    Y = Y.reshape(AL.shape) # after this line, Y is the same shape as AL\n",
    "    \n",
    "    dAL = - (np.divide(Y, AL) - np.divide(1 - Y, 1 - AL))\n",
    "    \n",
    "    current_cache = caches[L-1]\n",
    "    grads[\"dA\" + str(L-1)], grads[\"dW\" + str(L)], grads[\"db\" + str(L)] = linear_activation_backward_reg(dAL, current_cache, lambd,  activation = \"sigmoid\")\n",
    "    \n",
    "    for l in reversed(range(L-1)):\n",
    "        current_cache = caches[l]\n",
    "        dA_prev_temp, dW_temp, db_temp = linear_activation_backward_reg(grads[\"dA\" + str(l + 1)], current_cache, lambd, activation = \"relu\")\n",
    "        grads[\"dA\" + str(l)] = dA_prev_temp\n",
    "        grads[\"dW\" + str(l + 1)] = dW_temp\n",
    "        grads[\"db\" + str(l + 1)] = db_temp\n",
    "\n",
    "    return grads"
   ]
  },
  {
   "cell_type": "markdown",
   "metadata": {},
   "source": [
    "## Model"
   ]
  },
  {
   "cell_type": "code",
   "execution_count": 91,
   "metadata": {},
   "outputs": [],
   "source": [
    "def L_layer_model_HE_and_xavier_and_reg(X, Y, layers_dims, learning_rate=0.0075, num_iterations=3000, lambd = 0.7 ,print_cost=False): #lr was 0.009\n",
    "    \n",
    "    start = time.time()\n",
    "    np.random.seed(1)\n",
    "    costs = []                         # keep track of cost\n",
    "    lambd = 0.7\n",
    "    \n",
    "    parameters = initialize_parameters_deep_He_and_xavier(layers_dims)\n",
    "    \n",
    "    for i in range(0, num_iterations):\n",
    "\n",
    "        AL, caches = L_model_forward(X, parameters)\n",
    "        \n",
    "        cost = compute_cost_reg(AL, Y, parameters, lambd)\n",
    "        \n",
    "        grads = L_model_backward_reg(AL, Y, caches, lambd)\n",
    "        \n",
    "        parameters = update_parameters(parameters, grads, learning_rate)\n",
    "        \n",
    "        if print_cost and i % 100 == 0:\n",
    "            print (\"Cost after iteration %i: %f\" % (i, cost))\n",
    "        if print_cost and i % 100 == 0:\n",
    "            costs.append(cost)\n",
    "            \n",
    "    end = time.time()\n",
    "    print(\"the time required is \" + str(end-start))\n",
    "    plt.plot(np.squeeze(costs))\n",
    "    plt.ylabel('cost')\n",
    "    plt.xlabel('iterations (per tens)')\n",
    "    plt.title(\"Learning rate =\" + str(learning_rate))\n",
    "    plt.show()\n",
    "    \n",
    "    \n",
    "    \n",
    "    return parameters"
   ]
  },
  {
   "cell_type": "code",
   "execution_count": 92,
   "metadata": {},
   "outputs": [
    {
     "name": "stdout",
     "output_type": "stream",
     "text": [
      "Cost after iteration 0: 0.943145\n",
      "Cost after iteration 100: 0.670610\n",
      "Cost after iteration 200: 0.649909\n",
      "Cost after iteration 300: 0.623196\n",
      "Cost after iteration 400: 0.592161\n",
      "Cost after iteration 500: 0.625599\n",
      "Cost after iteration 600: 0.576943\n",
      "Cost after iteration 700: 0.537238\n",
      "Cost after iteration 800: 0.492566\n",
      "Cost after iteration 900: 0.427475\n",
      "Cost after iteration 1000: 0.392985\n",
      "Cost after iteration 1100: 0.320392\n",
      "Cost after iteration 1200: 0.347857\n",
      "Cost after iteration 1300: 0.291100\n",
      "Cost after iteration 1400: 0.233064\n",
      "Cost after iteration 1500: 0.196981\n",
      "Cost after iteration 1600: 0.157882\n",
      "Cost after iteration 1700: 0.138045\n",
      "Cost after iteration 1800: 0.123641\n",
      "Cost after iteration 1900: 0.111952\n",
      "Cost after iteration 2000: 0.101648\n",
      "Cost after iteration 2100: 0.091259\n",
      "Cost after iteration 2200: 0.083712\n",
      "Cost after iteration 2300: 0.077021\n",
      "Cost after iteration 2400: 0.071447\n",
      "the time required is 146.13403129577637\n"
     ]
    },
    {
     "data": {
      "image/png": "[encoded data removed]",
      "text/plain": [
       "<Figure size 360x288 with 1 Axes>"
      ]
     },
     "metadata": {
      "needs_background": "light"
     },
     "output_type": "display_data"
    },
    {
     "name": "stdout",
     "output_type": "stream",
     "text": [
      "\n",
      "-------------------------------------------------------\n",
      "\n",
      "the Accuracy on the training set is\n",
      "Accuracy: 0.9952153110047844\n",
      "\n",
      "the Accuracy on the test set is\n",
      "Accuracy: 0.74\n"
     ]
    }
   ],
   "source": [
    "arameters = L_layer_model_HE_and_xavier_and_reg(x_train, y_train, layers_dims, num_iterations=2500, print_cost=True)\n",
    "\n",
    "print ('\\n' + \"-------------------------------------------------------\" + '\\n')  \n",
    "\n",
    "\n",
    "print(\"the Accuracy on the training set is\")\n",
    "train_accuracy = predict(x_train, y_train, parameters)\n",
    "print()\n",
    "print(\"the Accuracy on the test set is\")\n",
    "test_accuracy = predict(x_test, y_test, parameters)"
   ]
  },
  {
   "cell_type": "code",
   "execution_count": null,
   "metadata": {},
   "outputs": [],
   "source": []
  }
 ],
 "metadata": {
  "kernelspec": {
   "display_name": "Python 3",
   "language": "python",
   "name": "python3"
  },
  "language_info": {
   "codemirror_mode": {
    "name": "ipython",
    "version": 3
   },
   "file_extension": ".py",
   "mimetype": "text/x-python",
   "name": "python",
   "nbconvert_exporter": "python",
   "pygments_lexer": "ipython3",
   "version": "3.7.4"
  }
 },
 "nbformat": 4,
 "nbformat_minor": 2
}
